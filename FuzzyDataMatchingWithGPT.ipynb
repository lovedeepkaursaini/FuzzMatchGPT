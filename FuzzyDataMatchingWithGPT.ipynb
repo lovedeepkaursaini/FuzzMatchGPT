{
  "nbformat": 4,
  "nbformat_minor": 0,
  "metadata": {
    "colab": {
      "provenance": [],
      "authorship_tag": "ABX9TyPN2AziKqXERLzkkyKdjCbH",
      "include_colab_link": true
    },
    "kernelspec": {
      "name": "python3",
      "display_name": "Python 3"
    },
    "language_info": {
      "name": "python"
    }
  },
  "cells": [
    {
      "cell_type": "markdown",
      "metadata": {
        "id": "view-in-github",
        "colab_type": "text"
      },
      "source": [
        "<a href=\"https://colab.research.google.com/github/lovedeepkaursaini/FuzzMatchGPT/blob/main/FuzzyDataMatchingWithGPT.ipynb\" target=\"_parent\"><img src=\"https://colab.research.google.com/assets/colab-badge.svg\" alt=\"Open In Colab\"/></a>"
      ]
    },
    {
      "cell_type": "markdown",
      "source": [
        "#Title: Fuzzy Data Matching with GPT-based Embeddings and Nearest Neighbors\n"
      ],
      "metadata": {
        "id": "ETwPWKmpg4rx"
      }
    },
    {
      "cell_type": "markdown",
      "source": [
        "##High-Level Executive Summary:\n",
        "Data matching, the process of identifying similar records across multiple datasets, is a common challenge in data management. In this code, we will use a powerful approach to fuzzy data matching using GPT-based embeddings and Nearest Neighbors. We demonstrate how to leverage the OpenAI GPT model to generate embeddings for textual data and utilize the Nearest Neighbors algorithm for finding close matches. By following the provided code and explanations, you'll be equipped with a practical solution to efficiently match fuzzy records across datasets."
      ],
      "metadata": {
        "id": "uLBVM0PtiEbx"
      }
    },
    {
      "cell_type": "code",
      "source": [
        "import os\n",
        "import openai\n",
        "os.environ['OPENAI_API_KEY'] = 'sk-'\n",
        "openai.api_key = os.getenv(\"OPENAI_API_KEY\")"
      ],
      "metadata": {
        "id": "NgnWEm2dKxQk"
      },
      "execution_count": 1,
      "outputs": []
    },
    {
      "cell_type": "code",
      "source": [
        "import openai\n",
        "from sklearn.neighbors import NearestNeighbors\n",
        "import pandas as pd\n",
        "\n",
        "def get_embedding(text):\n",
        "    result = openai.Embedding.create(\n",
        "      model='text-embedding-ada-002',\n",
        "      input=text\n",
        "    )\n",
        "    return result[\"data\"][0][\"embedding\"]\n",
        "\n",
        "def fuzzy_match(target_df, source_df, columns, threshold=0.85):\n",
        "    \"\"\"\n",
        "    Function to perform fuzzy matching between two dataframes on specified columns.\n",
        "\n",
        "    Parameters:\n",
        "    target_df (pd.DataFrame): The dataframe to be matched to.\n",
        "    source_df (pd.DataFrame): The dataframe to be matched from.\n",
        "    columns (list of str): The columns to perform fuzzy matching on.\n",
        "    threshold (float, optional): The cosine similarity threshold for a match to be considered 'good'. Defaults to 0.85.\n",
        "\n",
        "    Returns:\n",
        "    pd.DataFrame: A new dataframe where each specified column in source_df is matched against the corresponding column in target_df,\n",
        "                  with similarity scores and 'good'/'bad' match indicators for each column.\n",
        "    \"\"\"\n",
        "\n",
        "    matched_results = source_df[columns].copy()\n",
        "\n",
        "    for column in columns:\n",
        "        target_df[column + '_embeddings'] = target_df[column].apply(get_embedding)\n",
        "        source_df[column + '_embeddings'] = source_df[column].apply(get_embedding)\n",
        "\n",
        "        nn = NearestNeighbors(n_neighbors=1, metric='cosine').fit(target_df[column + '_embeddings'].to_list())\n",
        "        distances, indices = nn.kneighbors(source_df[column + '_embeddings'].to_list(), return_distance=True)\n",
        "\n",
        "        matched_results[column + '_matched_to'] = [target_df.loc[indices[i, 0], column] for i in range(source_df.shape[0])]\n",
        "        matched_results[column + '_similarity'] = 1 - distances\n",
        "        matched_results[column + '_is_good_match'] = ['good' if 1 - distances[i, 0] >= threshold else 'bad' for i in range(source_df.shape[0])]\n",
        "\n",
        "    return matched_results\n",
        "\n",
        "\n",
        "# Assuming you have two dataframes df1 and df2 with 'name' and 'address' fields\n",
        "df1 = pd.DataFrame({\n",
        "    'name': ['John Doe', 'Mary Jane', 'Peter Parker'],\n",
        "    'address': ['123 Main St', '456 Oak St', '789 Pine St'],\n",
        "    'age': ['10','25','100'],\n",
        "})\n",
        "\n",
        "df2 = pd.DataFrame({\n",
        "    'name': ['Pete Parker', 'Jon Doe', 'John Doe', 'Marry Jane', 'Anita Smith'],\n",
        "    'address': ['123 Main Street', '457 Oak St', '457', '789 Pine Street', '789'],\n",
        "    'age': ['10','30','40','90',''],\n",
        "})\n",
        "\n",
        "#get matches for age\n",
        "print(fuzzy_match(df1,df2,['age'],0.85))\n",
        "\n",
        "#get matches for name\n",
        "print(fuzzy_match(df1,df2,['name'],0.85))\n",
        "\n",
        "#get matches for address\n",
        "print(fuzzy_match(df1,df2,['address'],0.85))\n"
      ],
      "metadata": {
        "colab": {
          "base_uri": "https://localhost:8080/"
        },
        "id": "WQyfV82coxGg",
        "outputId": "b3831890-38a7-46e4-9331-f275e548238a"
      },
      "execution_count": 2,
      "outputs": [
        {
          "output_type": "stream",
          "name": "stdout",
          "text": [
            "  age age_matched_to  age_similarity age_is_good_match\n",
            "0  10             10        1.000000              good\n",
            "1  30             25        0.935637              good\n",
            "2  40             25        0.905163              good\n",
            "3  90            100        0.945223              good\n",
            "4                 10        0.723592               bad\n",
            "          name name_matched_to  name_similarity name_is_good_match\n",
            "0  Pete Parker    Peter Parker         0.948144               good\n",
            "1      Jon Doe        John Doe         0.973675               good\n",
            "2     John Doe        John Doe         1.000000               good\n",
            "3   Marry Jane       Mary Jane         0.934483               good\n",
            "4  Anita Smith        John Doe         0.813399                bad\n",
            "           address address_matched_to  address_similarity  \\\n",
            "0  123 Main Street        123 Main St            0.984647   \n",
            "1       457 Oak St         456 Oak St            0.965014   \n",
            "2              457        123 Main St            0.815346   \n",
            "3  789 Pine Street        789 Pine St            0.984795   \n",
            "4              789        123 Main St            0.827573   \n",
            "\n",
            "  address_is_good_match  \n",
            "0                  good  \n",
            "1                  good  \n",
            "2                   bad  \n",
            "3                  good  \n",
            "4                   bad  \n"
          ]
        }
      ]
    }
  ]
}